{
 "cells": [
  {
   "cell_type": "code",
   "execution_count": 1,
   "metadata": {},
   "outputs": [],
   "source": [
    "import os"
   ]
  },
  {
   "cell_type": "code",
   "execution_count": 2,
   "metadata": {},
   "outputs": [
    {
     "data": {
      "text/plain": [
       "'c:\\\\Users\\\\amrendra\\\\Desktop\\\\Text Summarizer\\\\nlp_service\\\\research'"
      ]
     },
     "execution_count": 2,
     "metadata": {},
     "output_type": "execute_result"
    }
   ],
   "source": [
    "%pwd"
   ]
  },
  {
   "cell_type": "code",
   "execution_count": 3,
   "metadata": {},
   "outputs": [],
   "source": [
    "os.chdir(\"../\")"
   ]
  },
  {
   "cell_type": "code",
   "execution_count": 4,
   "metadata": {},
   "outputs": [
    {
     "data": {
      "text/plain": [
       "'c:\\\\Users\\\\amrendra\\\\Desktop\\\\Text Summarizer\\\\nlp_service'"
      ]
     },
     "execution_count": 4,
     "metadata": {},
     "output_type": "execute_result"
    }
   ],
   "source": [
    "%pwd"
   ]
  },
  {
   "cell_type": "code",
   "execution_count": 5,
   "metadata": {},
   "outputs": [],
   "source": [
    "from dataclasses import dataclass\n",
    "from pathlib import Path\n",
    "\n",
    "\n",
    "@dataclass(frozen=True)\n",
    "class ModelTrainerConfig:\n",
    "    root_dir: Path\n",
    "    data_path: Path\n",
    "    model_ckpt: Path\n",
    "    num_train_epochs: int\n",
    "    warmup_steps: int\n",
    "    per_device_train_batch_size: int\n",
    "    weight_decay: float\n",
    "    logging_steps: int\n",
    "    evaluation_strategy: str\n",
    "    eval_steps: int\n",
    "    save_steps: float\n",
    "    gradient_accumulation_steps: int"
   ]
  },
  {
   "cell_type": "code",
   "execution_count": 6,
   "metadata": {},
   "outputs": [
    {
     "name": "stdout",
     "output_type": "stream",
     "text": [
      "Requirement already satisfied: PyYAML in c:\\users\\amrendra\\.virtualenvs\\backend-qhp7n-ja\\lib\\site-packages (6.0.1)\n"
     ]
    }
   ],
   "source": [
    "!pip install PyYAML"
   ]
  },
  {
   "cell_type": "code",
   "execution_count": 7,
   "metadata": {},
   "outputs": [
    {
     "name": "stdout",
     "output_type": "stream",
     "text": [
      "Requirement already satisfied: pip==21.2.3 in c:\\users\\amrendra\\.virtualenvs\\backend-qhp7n-ja\\lib\\site-packages (21.2.3)\n"
     ]
    }
   ],
   "source": [
    "!python -m pip install --upgrade pip==21.2.3"
   ]
  },
  {
   "cell_type": "code",
   "execution_count": 8,
   "metadata": {},
   "outputs": [],
   "source": [
    "import sys\n",
    "sys.path.append('C:\\\\Users\\\\amrendra\\\\Desktop\\\\Text Summarizer\\\\nlp_service\\\\src')"
   ]
  },
  {
   "cell_type": "code",
   "execution_count": 9,
   "metadata": {},
   "outputs": [],
   "source": [
    "from textSummarizer.constants import *\n",
    "from textSummarizer.utils.common import read_yaml, create_directories"
   ]
  },
  {
   "cell_type": "code",
   "execution_count": 10,
   "metadata": {},
   "outputs": [],
   "source": [
    "class ConfigurationManager:\n",
    "    def __init__(\n",
    "        self,\n",
    "        config_filepath = CONFIG_FILE_PATH,\n",
    "        params_filepath = PARAMS_FILE_PATH):\n",
    "\n",
    "        self.config = read_yaml(config_filepath)\n",
    "        self.params = read_yaml(params_filepath)\n",
    "\n",
    "        create_directories([self.config.artifacts_root])\n",
    "\n",
    "\n",
    "    \n",
    "    def get_model_trainer_config(self) -> ModelTrainerConfig:\n",
    "        config = self.config.model_trainer\n",
    "        params = self.params.TrainingArguments\n",
    "\n",
    "        create_directories([config.root_dir])\n",
    "\n",
    "        model_trainer_config = ModelTrainerConfig(\n",
    "            root_dir=config.root_dir,\n",
    "            data_path=config.data_path,\n",
    "            model_ckpt = config.model_ckpt,\n",
    "            num_train_epochs = params.num_train_epochs,\n",
    "            warmup_steps = params.warmup_steps,\n",
    "            per_device_train_batch_size = params.per_device_train_batch_size,\n",
    "            weight_decay = params.weight_decay,\n",
    "            logging_steps = params.logging_steps,\n",
    "            evaluation_strategy = params.evaluation_strategy,\n",
    "            eval_steps = params.evaluation_strategy,\n",
    "            save_steps = params.save_steps,\n",
    "            gradient_accumulation_steps = params.gradient_accumulation_steps\n",
    "        )\n",
    "\n",
    "        return model_trainer_config"
   ]
  },
  {
   "cell_type": "code",
   "execution_count": 11,
   "metadata": {},
   "outputs": [
    {
     "name": "stdout",
     "output_type": "stream",
     "text": [
      "Requirement already satisfied: torch in c:\\users\\amrendra\\.virtualenvs\\backend-qhp7n-ja\\lib\\site-packages (2.3.1)\n",
      "Requirement already satisfied: sympy in c:\\users\\amrendra\\.virtualenvs\\backend-qhp7n-ja\\lib\\site-packages (from torch) (1.12.1)\n",
      "Requirement already satisfied: filelock in c:\\users\\amrendra\\.virtualenvs\\backend-qhp7n-ja\\lib\\site-packages (from torch) (3.15.4)\n",
      "Requirement already satisfied: fsspec in c:\\users\\amrendra\\.virtualenvs\\backend-qhp7n-ja\\lib\\site-packages (from torch) (2024.5.0)\n",
      "Requirement already satisfied: jinja2 in c:\\users\\amrendra\\.virtualenvs\\backend-qhp7n-ja\\lib\\site-packages (from torch) (3.1.4)\n",
      "Requirement already satisfied: typing-extensions>=4.8.0 in c:\\users\\amrendra\\.virtualenvs\\backend-qhp7n-ja\\lib\\site-packages (from torch) (4.12.2)\n",
      "Requirement already satisfied: mkl<=2021.4.0,>=2021.1.1 in c:\\users\\amrendra\\.virtualenvs\\backend-qhp7n-ja\\lib\\site-packages (from torch) (2021.4.0)\n",
      "Requirement already satisfied: networkx in c:\\users\\amrendra\\.virtualenvs\\backend-qhp7n-ja\\lib\\site-packages (from torch) (3.2.1)\n",
      "Requirement already satisfied: intel-openmp==2021.* in c:\\users\\amrendra\\.virtualenvs\\backend-qhp7n-ja\\lib\\site-packages (from mkl<=2021.4.0,>=2021.1.1->torch) (2021.4.0)\n",
      "Requirement already satisfied: tbb==2021.* in c:\\users\\amrendra\\.virtualenvs\\backend-qhp7n-ja\\lib\\site-packages (from mkl<=2021.4.0,>=2021.1.1->torch) (2021.13.0)\n",
      "Requirement already satisfied: MarkupSafe>=2.0 in c:\\users\\amrendra\\.virtualenvs\\backend-qhp7n-ja\\lib\\site-packages (from jinja2->torch) (2.1.5)\n",
      "Requirement already satisfied: mpmath<1.4.0,>=1.1.0 in c:\\users\\amrendra\\.virtualenvs\\backend-qhp7n-ja\\lib\\site-packages (from sympy->torch) (1.3.0)\n"
     ]
    }
   ],
   "source": [
    "!pip install torch"
   ]
  },
  {
   "cell_type": "code",
   "execution_count": 12,
   "metadata": {},
   "outputs": [
    {
     "name": "stderr",
     "output_type": "stream",
     "text": [
      "c:\\Users\\amrendra\\.virtualenvs\\backend-qHp7n-Ja\\lib\\site-packages\\tqdm\\auto.py:21: TqdmWarning: IProgress not found. Please update jupyter and ipywidgets. See https://ipywidgets.readthedocs.io/en/stable/user_install.html\n",
      "  from .autonotebook import tqdm as notebook_tqdm\n"
     ]
    },
    {
     "name": "stdout",
     "output_type": "stream",
     "text": [
      "[2024-07-02 12:28:56,873: INFO: config: PyTorch version 2.3.1 available.]\n"
     ]
    }
   ],
   "source": [
    "from transformers import TrainingArguments, Trainer\n",
    "from transformers import DataCollatorForSeq2Seq\n",
    "from transformers import AutoModelForSeq2SeqLM, AutoTokenizer\n",
    "from datasets import load_dataset, load_from_disk\n",
    "import torch"
   ]
  },
  {
   "cell_type": "code",
   "execution_count": 13,
   "metadata": {},
   "outputs": [],
   "source": [
    "class ModelTrainer:\n",
    "    def __init__(self, config: ModelTrainerConfig):\n",
    "        self.config = config\n",
    "\n",
    "\n",
    "    \n",
    "    def train(self):\n",
    "        device = \"cuda\" if torch.cuda.is_available() else \"cpu\"\n",
    "        tokenizer = AutoTokenizer.from_pretrained(self.config.model_ckpt)\n",
    "        model_pegasus = AutoModelForSeq2SeqLM.from_pretrained(self.config.model_ckpt).to(device)\n",
    "        seq2seq_data_collator = DataCollatorForSeq2Seq(tokenizer, model=model_pegasus)\n",
    "        \n",
    "        #loading data \n",
    "        dataset_samsum_pt = load_from_disk(self.config.data_path)\n",
    "\n",
    "        trainer_args = TrainingArguments(\n",
    "            output_dir=self.config.root_dir, num_train_epochs=1, warmup_steps=500,\n",
    "            per_device_train_batch_size=1, per_device_eval_batch_size=1,\n",
    "            weight_decay=0.01, logging_steps=10,\n",
    "            evaluation_strategy='steps', eval_steps=500, save_steps=1e6,\n",
    "            gradient_accumulation_steps=16\n",
    "        ) \n",
    "\n",
    "        trainer = Trainer(model=model_pegasus, args=trainer_args,\n",
    "                  tokenizer=tokenizer, data_collator=seq2seq_data_collator,\n",
    "                  train_dataset=dataset_samsum_pt[\"test\"], \n",
    "                  eval_dataset=dataset_samsum_pt[\"validation\"])\n",
    "        \n",
    "        trainer.train()\n",
    "\n",
    "        ## Save model\n",
    "        model_pegasus.save_pretrained(os.path.join(self.config.root_dir,\"pegasus-samsum-model\"))\n",
    "        ## Save tokenizer\n",
    "        tokenizer.save_pretrained(os.path.join(self.config.root_dir,\"tokenizer\"))\n"
   ]
  },
  {
   "cell_type": "code",
   "execution_count": 14,
   "metadata": {},
   "outputs": [
    {
     "name": "stdout",
     "output_type": "stream",
     "text": [
      "Requirement already satisfied: accelerate in c:\\users\\amrendra\\.virtualenvs\\backend-qhp7n-ja\\lib\\site-packages (0.31.0)\n",
      "Requirement already satisfied: psutil in c:\\users\\amrendra\\.virtualenvs\\backend-qhp7n-ja\\lib\\site-packages (from accelerate) (6.0.0)\n",
      "Requirement already satisfied: packaging>=20.0 in c:\\users\\amrendra\\.virtualenvs\\backend-qhp7n-ja\\lib\\site-packages (from accelerate) (24.1)\n",
      "Requirement already satisfied: torch>=1.10.0 in c:\\users\\amrendra\\.virtualenvs\\backend-qhp7n-ja\\lib\\site-packages (from accelerate) (2.3.1)\n",
      "Requirement already satisfied: safetensors>=0.3.1 in c:\\users\\amrendra\\.virtualenvs\\backend-qhp7n-ja\\lib\\site-packages (from accelerate) (0.4.3)\n",
      "Requirement already satisfied: numpy>=1.17 in c:\\users\\amrendra\\.virtualenvs\\backend-qhp7n-ja\\lib\\site-packages (from accelerate) (1.26.4)\n",
      "Requirement already satisfied: huggingface-hub in c:\\users\\amrendra\\.virtualenvs\\backend-qhp7n-ja\\lib\\site-packages (from accelerate) (0.23.4)\n",
      "Requirement already satisfied: pyyaml in c:\\users\\amrendra\\.virtualenvs\\backend-qhp7n-ja\\lib\\site-packages (from accelerate) (6.0.1)\n",
      "Requirement already satisfied: filelock in c:\\users\\amrendra\\.virtualenvs\\backend-qhp7n-ja\\lib\\site-packages (from torch>=1.10.0->accelerate) (3.15.4)\n",
      "Requirement already satisfied: mkl<=2021.4.0,>=2021.1.1 in c:\\users\\amrendra\\.virtualenvs\\backend-qhp7n-ja\\lib\\site-packages (from torch>=1.10.0->accelerate) (2021.4.0)\n",
      "Requirement already satisfied: fsspec in c:\\users\\amrendra\\.virtualenvs\\backend-qhp7n-ja\\lib\\site-packages (from torch>=1.10.0->accelerate) (2024.5.0)\n",
      "Requirement already satisfied: jinja2 in c:\\users\\amrendra\\.virtualenvs\\backend-qhp7n-ja\\lib\\site-packages (from torch>=1.10.0->accelerate) (3.1.4)\n",
      "Requirement already satisfied: networkx in c:\\users\\amrendra\\.virtualenvs\\backend-qhp7n-ja\\lib\\site-packages (from torch>=1.10.0->accelerate) (3.2.1)\n",
      "Requirement already satisfied: sympy in c:\\users\\amrendra\\.virtualenvs\\backend-qhp7n-ja\\lib\\site-packages (from torch>=1.10.0->accelerate) (1.12.1)\n",
      "Requirement already satisfied: typing-extensions>=4.8.0 in c:\\users\\amrendra\\.virtualenvs\\backend-qhp7n-ja\\lib\\site-packages (from torch>=1.10.0->accelerate) (4.12.2)\n",
      "Requirement already satisfied: tbb==2021.* in c:\\users\\amrendra\\.virtualenvs\\backend-qhp7n-ja\\lib\\site-packages (from mkl<=2021.4.0,>=2021.1.1->torch>=1.10.0->accelerate) (2021.13.0)\n",
      "Requirement already satisfied: intel-openmp==2021.* in c:\\users\\amrendra\\.virtualenvs\\backend-qhp7n-ja\\lib\\site-packages (from mkl<=2021.4.0,>=2021.1.1->torch>=1.10.0->accelerate) (2021.4.0)\n",
      "Requirement already satisfied: requests in c:\\users\\amrendra\\.virtualenvs\\backend-qhp7n-ja\\lib\\site-packages (from huggingface-hub->accelerate) (2.32.3)\n",
      "Requirement already satisfied: tqdm>=4.42.1 in c:\\users\\amrendra\\.virtualenvs\\backend-qhp7n-ja\\lib\\site-packages (from huggingface-hub->accelerate) (4.66.4)\n",
      "Requirement already satisfied: colorama in c:\\users\\amrendra\\.virtualenvs\\backend-qhp7n-ja\\lib\\site-packages (from tqdm>=4.42.1->huggingface-hub->accelerate) (0.4.6)\n",
      "Requirement already satisfied: MarkupSafe>=2.0 in c:\\users\\amrendra\\.virtualenvs\\backend-qhp7n-ja\\lib\\site-packages (from jinja2->torch>=1.10.0->accelerate) (2.1.5)\n",
      "Requirement already satisfied: certifi>=2017.4.17 in c:\\users\\amrendra\\.virtualenvs\\backend-qhp7n-ja\\lib\\site-packages (from requests->huggingface-hub->accelerate) (2024.6.2)\n",
      "Requirement already satisfied: charset-normalizer<4,>=2 in c:\\users\\amrendra\\.virtualenvs\\backend-qhp7n-ja\\lib\\site-packages (from requests->huggingface-hub->accelerate) (3.3.2)\n",
      "Requirement already satisfied: urllib3<3,>=1.21.1 in c:\\users\\amrendra\\.virtualenvs\\backend-qhp7n-ja\\lib\\site-packages (from requests->huggingface-hub->accelerate) (2.2.2)\n",
      "Requirement already satisfied: idna<4,>=2.5 in c:\\users\\amrendra\\.virtualenvs\\backend-qhp7n-ja\\lib\\site-packages (from requests->huggingface-hub->accelerate) (3.7)\n",
      "Requirement already satisfied: mpmath<1.4.0,>=1.1.0 in c:\\users\\amrendra\\.virtualenvs\\backend-qhp7n-ja\\lib\\site-packages (from sympy->torch>=1.10.0->accelerate) (1.3.0)\n",
      "Found existing installation: transformers 4.42.3\n",
      "Uninstalling transformers-4.42.3:\n",
      "  Successfully uninstalled transformers-4.42.3\n",
      "Found existing installation: accelerate 0.31.0\n",
      "Uninstalling accelerate-0.31.0:\n",
      "  Successfully uninstalled accelerate-0.31.0\n",
      "Collecting transformers\n",
      "  Using cached transformers-4.42.3-py3-none-any.whl (9.3 MB)\n",
      "Collecting accelerate\n",
      "  Using cached accelerate-0.31.0-py3-none-any.whl (309 kB)\n",
      "Requirement already satisfied: pyyaml>=5.1 in c:\\users\\amrendra\\.virtualenvs\\backend-qhp7n-ja\\lib\\site-packages (from transformers) (6.0.1)\n",
      "Requirement already satisfied: numpy<2.0,>=1.17 in c:\\users\\amrendra\\.virtualenvs\\backend-qhp7n-ja\\lib\\site-packages (from transformers) (1.26.4)\n",
      "Requirement already satisfied: huggingface-hub<1.0,>=0.23.2 in c:\\users\\amrendra\\.virtualenvs\\backend-qhp7n-ja\\lib\\site-packages (from transformers) (0.23.4)\n",
      "Requirement already satisfied: requests in c:\\users\\amrendra\\.virtualenvs\\backend-qhp7n-ja\\lib\\site-packages (from transformers) (2.32.3)\n",
      "Requirement already satisfied: regex!=2019.12.17 in c:\\users\\amrendra\\.virtualenvs\\backend-qhp7n-ja\\lib\\site-packages (from transformers) (2024.5.15)\n",
      "Requirement already satisfied: safetensors>=0.4.1 in c:\\users\\amrendra\\.virtualenvs\\backend-qhp7n-ja\\lib\\site-packages (from transformers) (0.4.3)\n",
      "Requirement already satisfied: filelock in c:\\users\\amrendra\\.virtualenvs\\backend-qhp7n-ja\\lib\\site-packages (from transformers) (3.15.4)\n",
      "Requirement already satisfied: tqdm>=4.27 in c:\\users\\amrendra\\.virtualenvs\\backend-qhp7n-ja\\lib\\site-packages (from transformers) (4.66.4)\n",
      "Requirement already satisfied: packaging>=20.0 in c:\\users\\amrendra\\.virtualenvs\\backend-qhp7n-ja\\lib\\site-packages (from transformers) (24.1)\n",
      "Requirement already satisfied: tokenizers<0.20,>=0.19 in c:\\users\\amrendra\\.virtualenvs\\backend-qhp7n-ja\\lib\\site-packages (from transformers) (0.19.1)\n",
      "Requirement already satisfied: psutil in c:\\users\\amrendra\\.virtualenvs\\backend-qhp7n-ja\\lib\\site-packages (from accelerate) (6.0.0)\n",
      "Requirement already satisfied: torch>=1.10.0 in c:\\users\\amrendra\\.virtualenvs\\backend-qhp7n-ja\\lib\\site-packages (from accelerate) (2.3.1)\n",
      "Requirement already satisfied: fsspec>=2023.5.0 in c:\\users\\amrendra\\.virtualenvs\\backend-qhp7n-ja\\lib\\site-packages (from huggingface-hub<1.0,>=0.23.2->transformers) (2024.5.0)\n",
      "Requirement already satisfied: typing-extensions>=3.7.4.3 in c:\\users\\amrendra\\.virtualenvs\\backend-qhp7n-ja\\lib\\site-packages (from huggingface-hub<1.0,>=0.23.2->transformers) (4.12.2)\n",
      "Requirement already satisfied: mkl<=2021.4.0,>=2021.1.1 in c:\\users\\amrendra\\.virtualenvs\\backend-qhp7n-ja\\lib\\site-packages (from torch>=1.10.0->accelerate) (2021.4.0)\n",
      "Requirement already satisfied: networkx in c:\\users\\amrendra\\.virtualenvs\\backend-qhp7n-ja\\lib\\site-packages (from torch>=1.10.0->accelerate) (3.2.1)\n",
      "Requirement already satisfied: sympy in c:\\users\\amrendra\\.virtualenvs\\backend-qhp7n-ja\\lib\\site-packages (from torch>=1.10.0->accelerate) (1.12.1)\n",
      "Requirement already satisfied: jinja2 in c:\\users\\amrendra\\.virtualenvs\\backend-qhp7n-ja\\lib\\site-packages (from torch>=1.10.0->accelerate) (3.1.4)\n",
      "Requirement already satisfied: intel-openmp==2021.* in c:\\users\\amrendra\\.virtualenvs\\backend-qhp7n-ja\\lib\\site-packages (from mkl<=2021.4.0,>=2021.1.1->torch>=1.10.0->accelerate) (2021.4.0)\n",
      "Requirement already satisfied: tbb==2021.* in c:\\users\\amrendra\\.virtualenvs\\backend-qhp7n-ja\\lib\\site-packages (from mkl<=2021.4.0,>=2021.1.1->torch>=1.10.0->accelerate) (2021.13.0)\n",
      "Requirement already satisfied: colorama in c:\\users\\amrendra\\.virtualenvs\\backend-qhp7n-ja\\lib\\site-packages (from tqdm>=4.27->transformers) (0.4.6)\n",
      "Requirement already satisfied: MarkupSafe>=2.0 in c:\\users\\amrendra\\.virtualenvs\\backend-qhp7n-ja\\lib\\site-packages (from jinja2->torch>=1.10.0->accelerate) (2.1.5)\n",
      "Requirement already satisfied: certifi>=2017.4.17 in c:\\users\\amrendra\\.virtualenvs\\backend-qhp7n-ja\\lib\\site-packages (from requests->transformers) (2024.6.2)\n",
      "Requirement already satisfied: urllib3<3,>=1.21.1 in c:\\users\\amrendra\\.virtualenvs\\backend-qhp7n-ja\\lib\\site-packages (from requests->transformers) (2.2.2)\n",
      "Requirement already satisfied: charset-normalizer<4,>=2 in c:\\users\\amrendra\\.virtualenvs\\backend-qhp7n-ja\\lib\\site-packages (from requests->transformers) (3.3.2)\n",
      "Requirement already satisfied: idna<4,>=2.5 in c:\\users\\amrendra\\.virtualenvs\\backend-qhp7n-ja\\lib\\site-packages (from requests->transformers) (3.7)\n",
      "Requirement already satisfied: mpmath<1.4.0,>=1.1.0 in c:\\users\\amrendra\\.virtualenvs\\backend-qhp7n-ja\\lib\\site-packages (from sympy->torch>=1.10.0->accelerate) (1.3.0)\n",
      "Installing collected packages: transformers, accelerate\n",
      "Successfully installed accelerate-0.31.0 transformers-4.42.3\n"
     ]
    }
   ],
   "source": [
    "!pip install --upgrade accelerate\n",
    "!pip uninstall -y transformers accelerate\n",
    "!pip install transformers accelerate"
   ]
  },
  {
   "cell_type": "code",
   "execution_count": 15,
   "metadata": {},
   "outputs": [
    {
     "name": "stdout",
     "output_type": "stream",
     "text": [
      "[2024-07-02 12:29:37,520: INFO: common: YAML file 'C:\\Users\\amrendra\\Desktop\\Text Summarizer\\nlp_service\\config\\config.yaml' loaded successfully]\n",
      "[2024-07-02 12:29:37,544: INFO: common: YAML file 'C:\\Users\\amrendra\\Desktop\\Text Summarizer\\nlp_service\\params.yaml' loaded successfully]\n",
      "[2024-07-02 12:29:37,545: INFO: common: Created directory: artifacts]\n",
      "[2024-07-02 12:29:37,546: INFO: common: Created directory: artifacts/model_trainer]\n"
     ]
    },
    {
     "name": "stderr",
     "output_type": "stream",
     "text": [
      "Some weights of PegasusForConditionalGeneration were not initialized from the model checkpoint at google/pegasus-cnn_dailymail and are newly initialized: ['model.decoder.embed_positions.weight', 'model.encoder.embed_positions.weight']\n",
      "You should probably TRAIN this model on a down-stream task to be able to use it for predictions and inference.\n",
      "c:\\Users\\amrendra\\.virtualenvs\\backend-qHp7n-Ja\\lib\\site-packages\\transformers\\training_args.py:1494: FutureWarning: `evaluation_strategy` is deprecated and will be removed in version 4.46 of 🤗 Transformers. Use `eval_strategy` instead\n",
      "  warnings.warn(\n",
      " 20%|█▉        | 10/51 [12:43<51:53, 75.95s/it] "
     ]
    },
    {
     "name": "stdout",
     "output_type": "stream",
     "text": [
      "{'loss': 3.1101, 'grad_norm': 31.957059860229492, 'learning_rate': 1.0000000000000002e-06, 'epoch': 0.2}\n"
     ]
    },
    {
     "name": "stderr",
     "output_type": "stream",
     "text": [
      " 39%|███▉      | 20/51 [24:00<36:07, 69.92s/it]"
     ]
    },
    {
     "name": "stdout",
     "output_type": "stream",
     "text": [
      "{'loss': 3.0466, 'grad_norm': 15.827713012695312, 'learning_rate': 2.0000000000000003e-06, 'epoch': 0.39}\n"
     ]
    },
    {
     "name": "stderr",
     "output_type": "stream",
     "text": [
      " 59%|█████▉    | 30/51 [35:42<25:29, 72.84s/it]"
     ]
    },
    {
     "name": "stdout",
     "output_type": "stream",
     "text": [
      "{'loss': 3.1612, 'grad_norm': 9.889605522155762, 'learning_rate': 3e-06, 'epoch': 0.59}\n"
     ]
    },
    {
     "name": "stderr",
     "output_type": "stream",
     "text": [
      " 78%|███████▊  | 40/51 [52:28<19:40, 107.35s/it]"
     ]
    },
    {
     "name": "stdout",
     "output_type": "stream",
     "text": [
      "{'loss': 2.9899, 'grad_norm': 20.073795318603516, 'learning_rate': 4.000000000000001e-06, 'epoch': 0.78}\n"
     ]
    },
    {
     "name": "stderr",
     "output_type": "stream",
     "text": [
      " 98%|█████████▊| 50/51 [1:04:57<01:10, 70.97s/it]"
     ]
    },
    {
     "name": "stdout",
     "output_type": "stream",
     "text": [
      "{'loss': 2.8525, 'grad_norm': 38.549373626708984, 'learning_rate': 5e-06, 'epoch': 0.98}\n"
     ]
    },
    {
     "name": "stderr",
     "output_type": "stream",
     "text": [
      "100%|██████████| 51/51 [1:06:05<00:00, 69.99s/it]Some non-default generation parameters are set in the model config. These should go into a GenerationConfig file (https://huggingface.co/docs/transformers/generation_strategies#save-a-custom-decoding-strategy-with-your-model) instead. This warning will be raised to an exception in v4.41.\n",
      "Non-default generation parameters: {'max_length': 128, 'min_length': 32, 'num_beams': 8, 'length_penalty': 0.8, 'forced_eos_token_id': 1}\n",
      "100%|██████████| 51/51 [1:11:13<00:00, 69.99s/it]"
     ]
    },
    {
     "name": "stdout",
     "output_type": "stream",
     "text": [
      "{'train_runtime': 4272.3611, 'train_samples_per_second': 0.192, 'train_steps_per_second': 0.012, 'train_loss': 3.022773681902418, 'epoch': 1.0}\n"
     ]
    },
    {
     "name": "stderr",
     "output_type": "stream",
     "text": [
      "100%|██████████| 51/51 [1:11:14<00:00, 83.81s/it]\n",
      "Some non-default generation parameters are set in the model config. These should go into a GenerationConfig file (https://huggingface.co/docs/transformers/generation_strategies#save-a-custom-decoding-strategy-with-your-model) instead. This warning will be raised to an exception in v4.41.\n",
      "Non-default generation parameters: {'max_length': 128, 'min_length': 32, 'num_beams': 8, 'length_penalty': 0.8, 'forced_eos_token_id': 1}\n"
     ]
    }
   ],
   "source": [
    "try:\n",
    "    config = ConfigurationManager()\n",
    "    model_trainer_config = config.get_model_trainer_config()\n",
    "    model_trainer_config = ModelTrainer(config=model_trainer_config)\n",
    "    model_trainer_config.train()\n",
    "except Exception as e:\n",
    "    raise e"
   ]
  },
  {
   "cell_type": "code",
   "execution_count": null,
   "metadata": {},
   "outputs": [],
   "source": []
  }
 ],
 "metadata": {
  "kernelspec": {
   "display_name": "textS",
   "language": "python",
   "name": "python3"
  },
  "language_info": {
   "codemirror_mode": {
    "name": "ipython",
    "version": 3
   },
   "file_extension": ".py",
   "mimetype": "text/x-python",
   "name": "python",
   "nbconvert_exporter": "python",
   "pygments_lexer": "ipython3",
   "version": "3.9.7"
  },
  "orig_nbformat": 4
 },
 "nbformat": 4,
 "nbformat_minor": 2
}
